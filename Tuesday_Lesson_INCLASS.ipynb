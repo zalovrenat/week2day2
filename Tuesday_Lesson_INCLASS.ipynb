{
 "cells": [
  {
   "cell_type": "markdown",
   "metadata": {},
   "source": [
    "# Functions, Scoping, Data Collections 1 & List Comprehensions"
   ]
  },
  {
   "cell_type": "markdown",
   "metadata": {},
   "source": [
    "## Tasks Today:\n",
    "\n",
    "<i>Monday Additions (or, and ... if statements)</i>\n",
    "\n",
    "1) String Manipulation <br>\n",
    " &nbsp;&nbsp;&nbsp;&nbsp; a) strip() <br>\n",
    " &nbsp;&nbsp;&nbsp;&nbsp; b) title() <br>\n",
    "2) Working With Lists <br>\n",
    " &nbsp;&nbsp;&nbsp;&nbsp; a) min() <br>\n",
    " &nbsp;&nbsp;&nbsp;&nbsp; b) max() <br>\n",
    " &nbsp;&nbsp;&nbsp;&nbsp; c) sum() <br>\n",
    " &nbsp;&nbsp;&nbsp;&nbsp; d) sort() <br>\n",
    " &nbsp;&nbsp;&nbsp;&nbsp; e) Copying a List <br>\n",
    " &nbsp;&nbsp;&nbsp;&nbsp; f) 'in' keyword <br>\n",
    " &nbsp;&nbsp;&nbsp;&nbsp; g) 'not in' keyword <br>\n",
    " &nbsp;&nbsp;&nbsp;&nbsp; i) Checking an Empty List <br>\n",
    " &nbsp;&nbsp;&nbsp;&nbsp; j) Removing Instances with a Loop <br>\n",
    "3) List Comprehensions <br>\n",
    "4) Tuples <br>\n",
    " &nbsp;&nbsp;&nbsp;&nbsp; a) sorted() <br>\n",
    "5) Functions <br>\n",
    " &nbsp;&nbsp;&nbsp;&nbsp; a) User-Defined vs. Built-In Functions <br>\n",
    " &nbsp;&nbsp;&nbsp;&nbsp; b) Accepting Parameters <br>\n",
    " &nbsp;&nbsp;&nbsp;&nbsp; c) Default Parameters <br>\n",
    " &nbsp;&nbsp;&nbsp;&nbsp; d) Making an Argument Optional <br>\n",
    " &nbsp;&nbsp;&nbsp;&nbsp; e) Keyword Arguments <br>\n",
    " &nbsp;&nbsp;&nbsp;&nbsp; f) Returning Values <br>\n",
    " &nbsp;&nbsp;&nbsp;&nbsp; g) *args <br>\n",
    " &nbsp;&nbsp;&nbsp;&nbsp; h) Docstring <br>\n",
    " &nbsp;&nbsp;&nbsp;&nbsp; i) Using a User Function in a Loop <br>\n",
    "6) Scope"
   ]
  },
  {
   "cell_type": "markdown",
   "metadata": {},
   "source": [
    "### String Manipulation"
   ]
  },
  {
   "cell_type": "markdown",
   "metadata": {},
   "source": [
    "##### .lstrip()"
   ]
  },
  {
   "cell_type": "code",
   "execution_count": 12,
   "metadata": {},
   "outputs": [
    {
     "name": "stdout",
     "output_type": "stream",
     "text": [
      "Renat   \n",
      "\t        \n"
     ]
    }
   ],
   "source": [
    "# string.lstrip()\n",
    "\n",
    "name = '    \\n\\t        Renat   \\n\\t        '\n",
    "print(name.lstrip())"
   ]
  },
  {
   "cell_type": "markdown",
   "metadata": {},
   "source": [
    "##### .rstrip()"
   ]
  },
  {
   "cell_type": "code",
   "execution_count": 13,
   "metadata": {},
   "outputs": [
    {
     "name": "stdout",
     "output_type": "stream",
     "text": [
      "    \n",
      "\t        Renat\n"
     ]
    }
   ],
   "source": [
    "# string.rstrip()\n",
    "print(name.rstrip())"
   ]
  },
  {
   "cell_type": "markdown",
   "metadata": {},
   "source": [
    "##### .strip()"
   ]
  },
  {
   "cell_type": "code",
   "execution_count": 14,
   "metadata": {},
   "outputs": [
    {
     "name": "stdout",
     "output_type": "stream",
     "text": [
      "Renat\n"
     ]
    }
   ],
   "source": [
    "# string.strip()\n",
    "print(name.strip())"
   ]
  },
  {
   "cell_type": "markdown",
   "metadata": {},
   "source": [
    "##### .title()"
   ]
  },
  {
   "cell_type": "code",
   "execution_count": 15,
   "metadata": {},
   "outputs": [
    {
     "name": "stdout",
     "output_type": "stream",
     "text": [
      "A Cat In The Hat\n",
      "A CAT IN THE HAT\n",
      "a cat in the hat\n",
      "A cat in the hat\n",
      "A cat IN THE hat\n"
     ]
    }
   ],
   "source": [
    "# string.title()\n",
    "sentence = \"A cat IN THE hat\"\n",
    "print(sentence.title())\n",
    "print(sentence.upper())\n",
    "print(sentence.lower())\n",
    "print(sentence.capitalize())\n",
    "print(sentence)"
   ]
  },
  {
   "cell_type": "markdown",
   "metadata": {},
   "source": [
    "### String Exercise <br>\n",
    "<p>Strip all white space and capitalize every name in the list given</p>"
   ]
  },
  {
   "cell_type": "code",
   "execution_count": 26,
   "metadata": {},
   "outputs": [
    {
     "name": "stdout",
     "output_type": "stream",
     "text": [
      "['Connor', 'Max', 'Evan', 'Jordan']\n"
     ]
    }
   ],
   "source": [
    "names = ['    coNNor', 'max', ' EVan ', 'JORDAN']\n",
    "# HINT: You will need to use a for loop for iteration\n",
    "\n",
    "# in place solution\n",
    "for i in range(len(names)):\n",
    "    names[i] = names[i].strip()\n",
    "    names[i] = names[i].title()\n",
    "print(names)\n",
    "\n",
    "# brand new list solution\n",
    "answer = []\n",
    "for name in names:\n",
    "    answer.append(name.strip().title())\n",
    "print(answer)\n",
    "\n",
    "# print solution\n",
    "for name in names:\n",
    "    name = name.strip()\n",
    "    name = name.title()\n",
    "    print(name.strip().title())"
   ]
  },
  {
   "cell_type": "markdown",
   "metadata": {},
   "source": [
    "### Working With Lists"
   ]
  },
  {
   "cell_type": "markdown",
   "metadata": {},
   "source": [
    "##### min()"
   ]
  },
  {
   "cell_type": "code",
   "execution_count": 27,
   "metadata": {},
   "outputs": [
    {
     "name": "stdout",
     "output_type": "stream",
     "text": [
      "2\n"
     ]
    }
   ],
   "source": [
    "# min(list)\n",
    "\n",
    "nums = [4,2,100,99,81,101,37,55]\n",
    "print(min(nums))"
   ]
  },
  {
   "cell_type": "markdown",
   "metadata": {},
   "source": [
    "##### max()"
   ]
  },
  {
   "cell_type": "code",
   "execution_count": 28,
   "metadata": {},
   "outputs": [
    {
     "name": "stdout",
     "output_type": "stream",
     "text": [
      "101\n"
     ]
    }
   ],
   "source": [
    "# max(list)\n",
    "\n",
    "nums = [4,2,100,99,81,101,37,55]\n",
    "print(max(nums))"
   ]
  },
  {
   "cell_type": "markdown",
   "metadata": {},
   "source": [
    "##### sum()"
   ]
  },
  {
   "cell_type": "code",
   "execution_count": 29,
   "metadata": {},
   "outputs": [
    {
     "name": "stdout",
     "output_type": "stream",
     "text": [
      "479\n"
     ]
    }
   ],
   "source": [
    "# sum(list)\n",
    "\n",
    "nums = [4,2,100,99,81,101,37,55]\n",
    "print(sum(nums))"
   ]
  },
  {
   "cell_type": "markdown",
   "metadata": {},
   "source": [
    "##### sorted()"
   ]
  },
  {
   "cell_type": "code",
   "execution_count": 32,
   "metadata": {},
   "outputs": [
    {
     "name": "stdout",
     "output_type": "stream",
     "text": [
      "['A', 'B', 'a', 'aastrid', 'b', 'c']\n",
      "[4, 2, 100, 99, 81, 101, 37, 55]\n",
      "[2, 4, 37, 55, 81, 99, 100, 101]\n"
     ]
    }
   ],
   "source": [
    "# sorted(list)\n",
    "\n",
    "test = ['c','b','a','aastrid','A','B']\n",
    "print(sorted(test))\n",
    "\n",
    "nums = [4,2,100,99,81,101,37,55]\n",
    "result = sorted(nums)\n",
    "print(nums)\n",
    "print(result)"
   ]
  },
  {
   "cell_type": "markdown",
   "metadata": {},
   "source": [
    "##### .sort() <br>\n",
    "<p>Difference between sort and sorted, is that sorted doesn't change original list it returns a copy, while .sort changes the original list</p>"
   ]
  },
  {
   "cell_type": "code",
   "execution_count": 34,
   "metadata": {},
   "outputs": [
    {
     "name": "stdout",
     "output_type": "stream",
     "text": [
      "['c', 'b', 'a', 'aastrid', 'A', 'B']\n",
      "['A', 'B', 'a', 'aastrid', 'b', 'c']\n"
     ]
    }
   ],
   "source": [
    "# list.sort()\n",
    "\n",
    "print(test)\n",
    "test.sort()\n",
    "print(test)\n",
    "\n",
    "# use sorted when you don't want to alter original list, use .sort() when you want to alter original list"
   ]
  },
  {
   "cell_type": "markdown",
   "metadata": {},
   "source": [
    "##### Copying a List"
   ]
  },
  {
   "cell_type": "code",
   "execution_count": 37,
   "metadata": {},
   "outputs": [
    {
     "name": "stdout",
     "output_type": "stream",
     "text": [
      "['A', 'B', 'a', 'aastrid', 'b', 'c']\n"
     ]
    }
   ],
   "source": [
    "# [:] copies a list, doesn't alter original\n",
    "\n",
    "test_copy = test[:]\n",
    "print(test_copy)"
   ]
  },
  {
   "cell_type": "markdown",
   "metadata": {},
   "source": [
    "##### 'in' keyword"
   ]
  },
  {
   "cell_type": "code",
   "execution_count": 38,
   "metadata": {},
   "outputs": [
    {
     "data": {
      "text/plain": [
       "True"
      ]
     },
     "execution_count": 38,
     "metadata": {},
     "output_type": "execute_result"
    }
   ],
   "source": [
    "names = ['Max','Bob','Shoha','Sarah','Bob']\n",
    "'Bob' in names"
   ]
  },
  {
   "cell_type": "markdown",
   "metadata": {},
   "source": [
    "##### 'not in' keyword"
   ]
  },
  {
   "cell_type": "code",
   "execution_count": null,
   "metadata": {},
   "outputs": [],
   "source": [
    "# see above"
   ]
  },
  {
   "cell_type": "markdown",
   "metadata": {},
   "source": [
    "##### Checking an Empty List"
   ]
  },
  {
   "cell_type": "code",
   "execution_count": 39,
   "metadata": {},
   "outputs": [
    {
     "name": "stdout",
     "output_type": "stream",
     "text": [
      "List is empty\n",
      "Found an empty list\n"
     ]
    }
   ],
   "source": [
    "# if l_1: or if l_1 = []\n",
    "\n",
    "my_list = []\n",
    "\n",
    "if my_list == []:\n",
    "    print('List is empty')\n",
    "\n",
    "if not my_list:\n",
    "    print('Found an empty list')"
   ]
  },
  {
   "cell_type": "markdown",
   "metadata": {},
   "source": [
    "##### Removing Instances with a Loop"
   ]
  },
  {
   "cell_type": "code",
   "execution_count": 44,
   "metadata": {},
   "outputs": [
    {
     "name": "stdout",
     "output_type": "stream",
     "text": [
      "['Connor', 'Max', 'Evan', 'Evan', 'Shoha', 'Sarah']\n",
      "['Connor', 'Max', 'Evan', 'Evan', 'Shoha', 'Sarah']\n"
     ]
    }
   ],
   "source": [
    "# while, remove\n",
    "\n",
    "names = ['Connor', 'Max', 'Bob', 'Evan','Bob','Bob','Evan','Shoha','Sarah','Bob']\n",
    "\n",
    "# bad way to do this\n",
    "# for name in names:\n",
    "#     if name == 'Bob':\n",
    "#         names.remove('Bob')\n",
    "#         # del names[index]\n",
    "#         #names.pop(index)\n",
    "# print(names)\n",
    "\n",
    "while \"Bob\" in names:\n",
    "    names.remove(\"Bob\")\n",
    "print(names)\n",
    "\n",
    "index = 0\n",
    "while index < len(names):\n",
    "    if names[index] == \"Bob\":\n",
    "        names.remove(\"Bob\")\n",
    "    else:\n",
    "        index += 1\n",
    "print(names)"
   ]
  },
  {
   "cell_type": "markdown",
   "metadata": {},
   "source": [
    "### List Exercise <br>\n",
    "<p>Remove all duplicates<br><b>Extra: Create a program that will remove any duplicates from a given list</b></p>"
   ]
  },
  {
   "cell_type": "code",
   "execution_count": 49,
   "metadata": {},
   "outputs": [
    {
     "name": "stdout",
     "output_type": "stream",
     "text": [
      "['connor', 'bob', 'evan', 'max', 2, 3, 4, 'kevin']\n",
      "['connor', 'bob', 'evan', 'max', 2, 3, 4, 'kevin']\n",
      "[2, 3, 4, 'kevin', 'evan', 'max', 'connor', 'bob']\n"
     ]
    }
   ],
   "source": [
    "names = ['connor', 'connor', 'bob', 'connor', 'evan', 'max', 'evan', 2, 2, 2, 3, 3, 4, 'bob', 'kevin']\n",
    "# Hint 1: You will need an append\n",
    "# Hint 2: Using an empty list will make life easier\n",
    "\n",
    "# using indices\n",
    "answer1 = []\n",
    "for i in range(len(names)):\n",
    "    if names[i] not in answer1:\n",
    "        answer1.append(names[i])\n",
    "    else:\n",
    "        pass\n",
    "print(answer1)\n",
    "\n",
    "# using variables\n",
    "answer2 = []\n",
    "for name in names:\n",
    "    if name not in answer2:\n",
    "        answer2.append(name)\n",
    "    else:\n",
    "        pass\n",
    "print(answer2)\n",
    "\n",
    "# using sets\n",
    "print(list(set(names)))"
   ]
  },
  {
   "cell_type": "markdown",
   "metadata": {},
   "source": [
    "### List Comprehensions <br>\n",
    "<p>Creating a quickly generated list to work with<br>*result*  = [*transform*    *iteration*         *filter*     ]</p>"
   ]
  },
  {
   "cell_type": "markdown",
   "metadata": {},
   "source": [
    "##### In a list comprehension we have a few pieces:\n",
    "1. The first is the counter/ variable - IN this the variable is x\n",
    "2. then we have a transform for the variable\n",
    "3. The finale part of a list comp is called the condition\n",
    "\n",
    "```python\n",
    "    [variable, transform, condition]\n",
    "```"
   ]
  },
  {
   "cell_type": "code",
   "execution_count": 52,
   "metadata": {},
   "outputs": [
    {
     "name": "stdout",
     "output_type": "stream",
     "text": [
      "[0, 4, 16, 36, 64, 100, 144, 196, 256, 324]\n",
      "[0, 4, 16, 36, 64, 100, 144, 196, 256, 324]\n"
     ]
    }
   ],
   "source": [
    "# number comprehension\n",
    "\n",
    "# With a regular for loop\n",
    "nums = []\n",
    "for num in range(20):\n",
    "    if num%2 == 0:\n",
    "        nums.append(num**2)\n",
    "print(nums)\n",
    "\n",
    "# IN a list comprehension we have a few pieces:\n",
    "# The first is the counter/ variable - IN this the variable is x\n",
    "# Then we have a transform for the variable \n",
    "# The finale part of a list comp is called the condition\n",
    "#[variable, transform, condition]\n",
    "\n",
    "nums_lc = [num**2 for num in range(20) if num%2==0]\n",
    "print(nums_lc)\n",
    "\n"
   ]
  },
  {
   "cell_type": "markdown",
   "metadata": {},
   "source": [
    "There are a few benefits to using List comprehensions. The most obvious would be that we now have shorter code to work with instead of using 3+ lines of code in the for loop variant.\n",
    "\n",
    "Another is an added benefit to memory usage. Since the list's memory is allocated first before adding elements to it, we don't have to resize the list once we add elements to it.\n",
    "\n",
    "Lastly, list comprehensions are considered the \"pythonic\" way to write code by the PEP8 standards (Python Style Guide)"
   ]
  },
  {
   "cell_type": "code",
   "execution_count": null,
   "metadata": {},
   "outputs": [],
   "source": [
    "# square number comprehension\n",
    "\n"
   ]
  },
  {
   "cell_type": "code",
   "execution_count": 53,
   "metadata": {},
   "outputs": [
    {
     "name": "stdout",
     "output_type": "stream",
     "text": [
      "['Shoha', 'Sarah', 'Sam', 'Aubrey', 'Rachel']\n"
     ]
    }
   ],
   "source": [
    "# string comprehension\n",
    "\n",
    "names = ['sHoHa','SARAH','sam','      Aubrey','Rachel    ']\n",
    "\n",
    "names_lc = [name.title().strip() for name in names]\n",
    "print(names_lc)\n",
    "\n"
   ]
  },
  {
   "cell_type": "code",
   "execution_count": 57,
   "metadata": {},
   "outputs": [
    {
     "name": "stdout",
     "output_type": "stream",
     "text": [
      "B\n",
      "['Shoha', 'Sarah', 'Sam', 'AUBREY', 'RACHEL']\n"
     ]
    }
   ],
   "source": [
    "# ternary operator (comprised of three parts)\n",
    "\n",
    "x = \"A\" if False else \"B\"\n",
    "print(x)\n",
    "\n",
    "list_lc = [name.title().strip() if name[0].lower()=='s' else name.upper().strip() for name in names]\n",
    "print(list_lc)"
   ]
  },
  {
   "cell_type": "markdown",
   "metadata": {},
   "source": [
    "### Tuples <br>\n",
    "<p><b>Defined as an immutable list</b></p><br>Seperated by commas using parenthesis"
   ]
  },
  {
   "cell_type": "code",
   "execution_count": 65,
   "metadata": {},
   "outputs": [
    {
     "name": "stdout",
     "output_type": "stream",
     "text": [
      "(3, 1, 2)\n",
      "<class 'tuple'>\n",
      "6\n",
      "1\n",
      "3\n"
     ]
    },
    {
     "ename": "AttributeError",
     "evalue": "'tuple' object has no attribute 'append'",
     "output_type": "error",
     "traceback": [
      "\u001b[1;31m---------------------------------------------------------------------------\u001b[0m",
      "\u001b[1;31mAttributeError\u001b[0m                            Traceback (most recent call last)",
      "Cell \u001b[1;32mIn[65], line 7\u001b[0m\n\u001b[0;32m      5\u001b[0m \u001b[38;5;28mprint\u001b[39m(\u001b[38;5;28mmin\u001b[39m(nums))\n\u001b[0;32m      6\u001b[0m \u001b[38;5;28mprint\u001b[39m(\u001b[38;5;28mmax\u001b[39m(nums))\n\u001b[1;32m----> 7\u001b[0m \u001b[43mnums\u001b[49m\u001b[38;5;241;43m.\u001b[39;49m\u001b[43mappend\u001b[49m(\u001b[38;5;241m10\u001b[39m)\n",
      "\u001b[1;31mAttributeError\u001b[0m: 'tuple' object has no attribute 'append'"
     ]
    }
   ],
   "source": [
    "nums = (3,1,2)\n",
    "print(nums)\n",
    "print(type(nums))\n",
    "print(sum(nums))\n",
    "print(min(nums))\n",
    "print(max(nums))\n",
    "nums.append(10)"
   ]
  },
  {
   "cell_type": "markdown",
   "metadata": {},
   "source": [
    "##### sorted()"
   ]
  },
  {
   "cell_type": "code",
   "execution_count": 66,
   "metadata": {},
   "outputs": [
    {
     "name": "stdout",
     "output_type": "stream",
     "text": [
      "(3, 1, 2)\n",
      "[1, 2, 3]\n",
      "<class 'list'>\n",
      "(1, 2, 3)\n",
      "<class 'tuple'>\n"
     ]
    }
   ],
   "source": [
    "sorted(nums)\n",
    "print(nums)\n",
    "res = sorted(nums)\n",
    "print(res)\n",
    "print(type(res))\n",
    "\n",
    "res2 = tuple(sorted(nums))\n",
    "print(res2)\n",
    "print(type(res2))"
   ]
  },
  {
   "cell_type": "markdown",
   "metadata": {},
   "source": [
    "##### Adding values to a Tuple"
   ]
  },
  {
   "cell_type": "code",
   "execution_count": 67,
   "metadata": {},
   "outputs": [
    {
     "name": "stdout",
     "output_type": "stream",
     "text": [
      "(1, 2, 3, 4, 5, 6)\n",
      "(1, 2, 3)\n",
      "(4, 5, 6)\n"
     ]
    }
   ],
   "source": [
    "tup1 = (1,2,3)\n",
    "tup2 = (4,5,6)\n",
    "res = tup1 + tup2\n",
    "print(res)\n",
    "print(tup1)\n",
    "print(tup2)"
   ]
  },
  {
   "cell_type": "markdown",
   "metadata": {},
   "source": [
    "## Functions"
   ]
  },
  {
   "cell_type": "markdown",
   "metadata": {},
   "source": [
    "##### User-Defined vs. Built-In Functions"
   ]
  },
  {
   "cell_type": "code",
   "execution_count": 72,
   "metadata": {},
   "outputs": [
    {
     "name": "stdout",
     "output_type": "stream",
     "text": [
      "Hello!\n"
     ]
    }
   ],
   "source": [
    "def say_hello():\n",
    "    return \"Hello!\"\n",
    "\n",
    "say_hello()\n",
    "\n",
    "output = say_hello()\n",
    "print(output)"
   ]
  },
  {
   "cell_type": "markdown",
   "metadata": {},
   "source": [
    "##### Accepting Parameters"
   ]
  },
  {
   "cell_type": "code",
   "execution_count": 75,
   "metadata": {},
   "outputs": [
    {
     "name": "stdout",
     "output_type": "stream",
     "text": [
      "renat.z@abbyy.com\n",
      "scott.o@abbyy.com\n",
      "rachel.w@google.com\n"
     ]
    }
   ],
   "source": [
    "def create_email(first_name,last_name,company_name):\n",
    "    email = f'{first_name}.{last_name[0]}@{company_name}.com'\n",
    "    return email.lower()\n",
    "\n",
    "\n",
    "renat = create_email(\"Renat\",\"Zalov\",\"ABBYY\")\n",
    "scott = create_email(\"Scott\",\"Opitz\",\"ABBYY\")\n",
    "rachel = create_email(\"Rachel\",\"Wertz\",\"Google\")\n",
    "print(renat)\n",
    "print(scott)\n",
    "print(rachel)"
   ]
  },
  {
   "cell_type": "markdown",
   "metadata": {},
   "source": [
    "##### Default Parameters"
   ]
  },
  {
   "cell_type": "code",
   "execution_count": 77,
   "metadata": {},
   "outputs": [
    {
     "name": "stdout",
     "output_type": "stream",
     "text": [
      "renat.z@abbyy.com\n",
      "scott.o@abbyy.com\n",
      "rachel.w@google.com\n"
     ]
    }
   ],
   "source": [
    "def create_email(first_name,last_name,company_name='ABBYY'):\n",
    "    email = f'{first_name}.{last_name[0]}@{company_name}.com'\n",
    "    return email.lower()\n",
    "\n",
    "renat = create_email(\"Renat\",\"Zalov\")\n",
    "scott = create_email(\"Scott\",\"Opitz\")\n",
    "rachel = create_email(\"Rachel\",\"Wertz\",\"Google\")\n",
    "print(renat)\n",
    "print(scott)\n",
    "print(rachel)\n",
    "\n",
    "# default parameters MUST come AFTER all positional (non-default) parameters"
   ]
  },
  {
   "cell_type": "markdown",
   "metadata": {},
   "source": [
    "##### Making an Argument Optional"
   ]
  },
  {
   "cell_type": "code",
   "execution_count": 79,
   "metadata": {},
   "outputs": [
    {
     "name": "stdout",
     "output_type": "stream",
     "text": [
      "renat.z@abbyy.com\n",
      "scott@abbyy.com\n",
      "rachel.w@abbyy.com\n"
     ]
    }
   ],
   "source": [
    "def create_email(first_name,last_name='',company_name='ABBYY'):\n",
    "    if last_name:\n",
    "        email = f'{first_name}.{last_name[0]}@{company_name}.com'\n",
    "    else:\n",
    "        email = f'{first_name}@{company_name}.com'\n",
    "    return email.lower()\n",
    "\n",
    "renat = create_email(\"Renat\",\"Zalov\")\n",
    "scott = create_email(\"Scott\")\n",
    "rachel = create_email(\"Rachel\",\"Wertz\")\n",
    "print(renat)\n",
    "print(scott)\n",
    "print(rachel)"
   ]
  },
  {
   "cell_type": "markdown",
   "metadata": {},
   "source": [
    "##### Keyword Arguments"
   ]
  },
  {
   "cell_type": "code",
   "execution_count": 80,
   "metadata": {},
   "outputs": [
    {
     "name": "stdout",
     "output_type": "stream",
     "text": [
      "renat@netflix.com\n",
      "scott@abbyy.com\n",
      "rachel.w@abbyy.com\n"
     ]
    }
   ],
   "source": [
    "# last_name='Max', first_name='Smith' in the function call\n",
    "\n",
    "# see above\n",
    "\n",
    "def create_email(first_name,last_name='',company_name='ABBYY'):\n",
    "    if last_name:\n",
    "        email = f'{first_name}.{last_name[0]}@{company_name}.com'\n",
    "    else:\n",
    "        email = f'{first_name}@{company_name}.com'\n",
    "    return email.lower()\n",
    "\n",
    "renat = create_email(\"Renat\", company_name=\"Netflix\")\n",
    "scott = create_email(\"Scott\")\n",
    "rachel = create_email(\"Rachel\",\"Wertz\")\n",
    "print(renat)\n",
    "print(scott)\n",
    "print(rachel)\n",
    "\n",
    "# keyword arguments MUST come AFTER positional arguments"
   ]
  },
  {
   "cell_type": "markdown",
   "metadata": {},
   "source": [
    "# Creating a start, stop, step function"
   ]
  },
  {
   "cell_type": "code",
   "execution_count": 83,
   "metadata": {},
   "outputs": [
    {
     "data": {
      "text/plain": [
       "[2, 5, 8]"
      ]
     },
     "execution_count": 83,
     "metadata": {},
     "output_type": "execute_result"
    }
   ],
   "source": [
    "def my_range(start,stop = None,step = 1):\n",
    "    if stop is None:\n",
    "        stop = start\n",
    "        start = 0\n",
    "    output = []\n",
    "    while start < stop:\n",
    "        output.append(start)\n",
    "        start += step\n",
    "    return output\n",
    "\n",
    "my_range(2,10,3)"
   ]
  },
  {
   "cell_type": "markdown",
   "metadata": {},
   "source": [
    "##### Returning Values"
   ]
  },
  {
   "cell_type": "code",
   "execution_count": 84,
   "metadata": {},
   "outputs": [
    {
     "name": "stdout",
     "output_type": "stream",
     "text": [
      "9\n"
     ]
    }
   ],
   "source": [
    "def add(num1,num2):\n",
    "    return num1 + num2\n",
    "\n",
    "res = add(5,4)\n",
    "print(res)"
   ]
  },
  {
   "cell_type": "markdown",
   "metadata": {},
   "source": [
    "##### *args"
   ]
  },
  {
   "cell_type": "code",
   "execution_count": 92,
   "metadata": {},
   "outputs": [
    {
     "name": "stdout",
     "output_type": "stream",
     "text": [
      "1\n",
      "(3, 4, 5, 6, 7, 8, 9, 'blah')\n"
     ]
    }
   ],
   "source": [
    "def my_print(first, second, *args, sep=' ', **kwargs):\n",
    "    print(first)\n",
    "    print(args)\n",
    "    return\n",
    "\n",
    "my_print(1,2,3,4,5,6,7,8,9, 'blah', name='Renat')"
   ]
  },
  {
   "cell_type": "markdown",
   "metadata": {},
   "source": [
    "##### Docstring"
   ]
  },
  {
   "cell_type": "code",
   "execution_count": 86,
   "metadata": {},
   "outputs": [
    {
     "name": "stdout",
     "output_type": "stream",
     "text": [
      "Help on function create_email in module __main__:\n",
      "\n",
      "create_email(first_name, last_name='', company_name='ABBYY')\n",
      "    create_email(first_name: str, last_name: str, company_name: str)\n",
      "    This function expects three strings: a first name, a last name, and a company name.\n",
      "    It will then craft an email out of the given inputs.\n",
      "\n"
     ]
    }
   ],
   "source": [
    "def create_email(first_name,last_name='',company_name='ABBYY'):\n",
    "    \"\"\"\n",
    "    create_email(first_name: str, last_name: str, company_name: str)\n",
    "    This function expects three strings: a first name, a last name, and a company name.\n",
    "    It will then craft an email out of the given inputs.\n",
    "    \"\"\"\n",
    "    if last_name:\n",
    "        email = f'{first_name}.{last_name[0]}@{company_name}.com'\n",
    "    else:\n",
    "        email = f'{first_name}@{company_name}.com'\n",
    "    return email.lower()\n",
    "\n",
    "help(create_email)"
   ]
  },
  {
   "cell_type": "markdown",
   "metadata": {},
   "source": [
    "##### Using a User Function in a Loop"
   ]
  },
  {
   "cell_type": "code",
   "execution_count": 93,
   "metadata": {},
   "outputs": [
    {
     "name": "stdout",
     "output_type": "stream",
     "text": [
      "Welcome to the email generator! Let's create a bunch of emails~\n",
      "What do you want to do? (Add / Quit)Add\n",
      "What is your first name?Renat\n",
      "What is your last name?Zalov\n",
      "What company do you work for?ABBYY\n",
      "Here is your generated email: renat.z@abbyy.com\n",
      "What do you want to do? (Add / Quit)ADDi\n",
      "Invalid response. Please type 'Add' or 'Quit'.\n",
      "What do you want to do? (Add / Quit)aDD\n",
      "What is your first name?Sarah\n",
      "What is your last name?Stodder\n",
      "What company do you work for?CodingTemple\n",
      "Here is your generated email: sarah.s@codingtemple.com\n",
      "What do you want to do? (Add / Quit)Shoha\n",
      "Invalid response. Please type 'Add' or 'Quit'.\n",
      "What do you want to do? (Add / Quit)Tsuchida\n",
      "Invalid response. Please type 'Add' or 'Quit'.\n",
      "What do you want to do? (Add / Quit)CodingTemple\n",
      "Invalid response. Please type 'Add' or 'Quit'.\n",
      "What do you want to do? (Add / Quit)Quit\n",
      "Thank you for using the email generator!\n",
      "Before you go... Here is a list of the emails you have made:\n",
      "['renat.z@abbyy.com', 'sarah.s@codingtemple.com']\n"
     ]
    }
   ],
   "source": [
    "def run_simulation():\n",
    "    list_of_emails = []\n",
    "    print(\"Welcome to the email generator! Let's create a bunch of emails~\")\n",
    "    while True:\n",
    "        answer = input(\"What do you want to do? (Add / Quit)\").lower()\n",
    "        if answer == \"add\":\n",
    "            first = input(\"What is your first name?\")\n",
    "            last = input(\"What is your last name?\")\n",
    "            company = input(\"What company do you work for?\")\n",
    "            result = create_email(first,last,company)\n",
    "            list_of_emails.append(result)\n",
    "            print(f'Here is your generated email: {result}')\n",
    "        elif answer == \"quit\":\n",
    "            break\n",
    "        else:\n",
    "            print(\"Invalid response. Please type 'Add' or 'Quit'.\")\n",
    "    print(\"Thank you for using the email generator!\")\n",
    "    print(\"Before you go... Here is a list of the emails you have made:\")\n",
    "    print(list_of_emails)\n",
    "    return list_of_emails\n",
    "\n",
    "my_emails = run_simulation()"
   ]
  },
  {
   "cell_type": "markdown",
   "metadata": {},
   "source": [
    "## Function Exercise <br>\n",
    "<p>Write a function that loops through a list of first_names and a list of last_names, combines the two and return a list of full_names</p>"
   ]
  },
  {
   "cell_type": "code",
   "execution_count": 100,
   "metadata": {},
   "outputs": [
    {
     "data": {
      "text/plain": [
       "['John Smith', 'Evan Smith', 'Jordan Williams', 'Max Bell']"
      ]
     },
     "execution_count": 100,
     "metadata": {},
     "output_type": "execute_result"
    }
   ],
   "source": [
    "first_name = ['John', 'Evan', 'Jordan', 'Max']\n",
    "last_name = ['Smith', 'Smith', 'Williams', 'Bell']\n",
    "\n",
    "# Output: ['John Smith', 'Evan Smith', 'Jordan Williams', 'Max Bell']\n",
    "\n",
    "def combine_names_list(fname,lname):\n",
    "    full_name = [fname[i]+\" \"+lname[i] for i in range(len(min(fname,lname)))]\n",
    "    return full_name\n",
    "\n",
    "combine_names_list(first_name,last_name)"
   ]
  },
  {
   "cell_type": "markdown",
   "metadata": {},
   "source": [
    "## Scope <br>\n",
    "<p>Scope refers to the ability to access variables, different types of scope include:<br>a) Global<br>b) Function (local)<br>c) Class (local)</p>"
   ]
  },
  {
   "cell_type": "code",
   "execution_count": 95,
   "metadata": {},
   "outputs": [
    {
     "name": "stdout",
     "output_type": "stream",
     "text": [
      "1\n"
     ]
    },
    {
     "ename": "NameError",
     "evalue": "name 'func_var' is not defined",
     "output_type": "error",
     "traceback": [
      "\u001b[1;31m---------------------------------------------------------------------------\u001b[0m",
      "\u001b[1;31mNameError\u001b[0m                                 Traceback (most recent call last)",
      "Cell \u001b[1;32mIn[95], line 10\u001b[0m\n\u001b[0;32m      7\u001b[0m     \u001b[38;5;28;01mreturn\u001b[39;00m\n\u001b[0;32m      8\u001b[0m test()\n\u001b[1;32m---> 10\u001b[0m \u001b[38;5;28mprint\u001b[39m(\u001b[43mfunc_var\u001b[49m)\n",
      "\u001b[1;31mNameError\u001b[0m: name 'func_var' is not defined"
     ]
    }
   ],
   "source": [
    "var = 1\n",
    "\n",
    "print(var)\n",
    "\n",
    "def test():\n",
    "    func_var = 10\n",
    "    return\n",
    "test()\n",
    "\n",
    "print(func_var)"
   ]
  },
  {
   "cell_type": "markdown",
   "metadata": {},
   "source": [
    "# Exercises"
   ]
  },
  {
   "cell_type": "markdown",
   "metadata": {},
   "source": [
    "## Exercise 1 <br>\n",
    "<p>Given a list as a parameter,write a function that returns a list of numbers that are less than ten</b></i></p><br>\n",
    "<p> For example: Say your input parameter to the function is [1,11,14,5,8,9]...Your output should [1,5,8,9]</p>"
   ]
  },
  {
   "cell_type": "code",
   "execution_count": 102,
   "metadata": {},
   "outputs": [
    {
     "name": "stdout",
     "output_type": "stream",
     "text": [
      "[1, 5, 8, 9]\n",
      "[1, 5, 8, 9]\n"
     ]
    },
    {
     "data": {
      "text/plain": [
       "[1, 5, 8, 9]"
      ]
     },
     "execution_count": 102,
     "metadata": {},
     "output_type": "execute_result"
    }
   ],
   "source": [
    "# Use the following list - [1,11,14,5,8,9]\n",
    "\n",
    "l_1 = [1,11,14,5,8,9]\n",
    "\n",
    "# Option 1\n",
    "def list_less_than_ten(some_list):\n",
    "    \"\"\"\n",
    "    list_less_than_ten(some_list: [])\n",
    "    This function takes a list as an input.\n",
    "    It then (1) prints and (2) returns a list of numbers that are less than 10.\n",
    "    \"\"\"\n",
    "    \n",
    "    output_list = [num for num in some_list if num<10]\n",
    "    \n",
    "    print(output_list)\n",
    "    return output_list\n",
    "\n",
    "list_less_than_ten(l_1)\n",
    "\n",
    "\n",
    "# Option 2\n",
    "def list_less_than_ten_2(some_list):\n",
    "    \"\"\"\n",
    "    list_less_than_ten(some_list: [])\n",
    "    This function takes a list as an input.\n",
    "    It then (1) prints and (2) returns a list of numbers that are less than 10.\n",
    "    \"\"\"\n",
    "    \n",
    "    output_list = []\n",
    "    \n",
    "    for num in some_list:\n",
    "        if num < 10:\n",
    "            output_list.append(num)\n",
    "        else:\n",
    "            pass\n",
    "    \n",
    "    print(output_list)\n",
    "    return(output_list)\n",
    "\n",
    "list_less_than_ten_2(l_1)"
   ]
  },
  {
   "cell_type": "markdown",
   "metadata": {},
   "source": [
    "## Exercise 2 <br>\n",
    "<p>Write a function that takes in two lists and returns the two lists merged together and sorted<br>\n",
    "<b><i>Hint: You can use the .sort() method</i></b></p>"
   ]
  },
  {
   "cell_type": "code",
   "execution_count": 104,
   "metadata": {},
   "outputs": [
    {
     "name": "stdout",
     "output_type": "stream",
     "text": [
      "[1, 2, 3, 3, 4, 4, 5, 5, 6, 6, 7, 8, 10]\n",
      "[1, 2, 3, 3, 4, 4, 5, 5, 6, 6, 7, 8, 10]\n"
     ]
    },
    {
     "data": {
      "text/plain": [
       "[1, 2, 3, 3, 4, 4, 5, 5, 6, 6, 7, 8, 10]"
      ]
     },
     "execution_count": 104,
     "metadata": {},
     "output_type": "execute_result"
    }
   ],
   "source": [
    "l_1 = [1,2,3,4,5,6]\n",
    "l_2 = [3,4,5,6,7,8,10]\n",
    "\n",
    "# Option 1\n",
    "\n",
    "def merge_lists(list1, list2):\n",
    "    \"\"\"\n",
    "    merge_lists(list1: [], list2: [])\n",
    "    This function takes in two lists as an input.\n",
    "    It then (1) prints and (2) returns the two lists as one merged and sorted list.\n",
    "    \"\"\"\n",
    "    \n",
    "    lists_merged_and_sorted = sorted(list1 + list2)\n",
    "    \n",
    "    print(lists_merged_and_sorted)\n",
    "    return(lists_merged_and_sorted)\n",
    "\n",
    "merge_lists(l_1,l_2)\n",
    "\n",
    "\n",
    "\n",
    "# Option 2\n",
    "\n",
    "def merge_lists(list1, list2):\n",
    "    \"\"\"\n",
    "    merge_lists(list1: [], list2: [])\n",
    "    This function takes in two lists as an input.\n",
    "    It then (1) prints and (2) returns the two lists as one merged and sorted list.\n",
    "    \"\"\"\n",
    "    \n",
    "    lists_merged = []\n",
    "    \n",
    "    for num in list1:\n",
    "        lists_merged.append(num)\n",
    "    \n",
    "    for num in list2:\n",
    "        lists_merged.append(num)\n",
    "    \n",
    "    lists_merged_and_sorted = sorted(lists_merged)\n",
    "    \n",
    "    print(lists_merged_and_sorted)\n",
    "    return(lists_merged_and_sorted)\n",
    "\n",
    "merge_lists(l_1,l_2)"
   ]
  }
 ],
 "metadata": {
  "kernelspec": {
   "display_name": "Python 3 (ipykernel)",
   "language": "python",
   "name": "python3"
  },
  "language_info": {
   "codemirror_mode": {
    "name": "ipython",
    "version": 3
   },
   "file_extension": ".py",
   "mimetype": "text/x-python",
   "name": "python",
   "nbconvert_exporter": "python",
   "pygments_lexer": "ipython3",
   "version": "3.10.9"
  }
 },
 "nbformat": 4,
 "nbformat_minor": 2
}
